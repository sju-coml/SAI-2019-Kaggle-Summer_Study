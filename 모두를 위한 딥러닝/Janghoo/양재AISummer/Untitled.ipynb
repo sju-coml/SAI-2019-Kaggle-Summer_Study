{
 "cells": [
  {
   "cell_type": "code",
   "execution_count": 1,
   "metadata": {},
   "outputs": [],
   "source": [
    "import pandas as pd\n",
    "from pandas import DataFrame, Series"
   ]
  },
  {
   "cell_type": "code",
   "execution_count": 2,
   "metadata": {},
   "outputs": [],
   "source": [
    "s_1 = Series([1,2,3])\n",
    "s_2 = Series([1,2,3])\n",
    "s_3 = Series([1,2,3])"
   ]
  },
  {
   "cell_type": "code",
   "execution_count": 4,
   "metadata": {},
   "outputs": [],
   "source": [
    "df = DataFrame([s_1,s_2])"
   ]
  },
  {
   "cell_type": "code",
   "execution_count": 5,
   "metadata": {},
   "outputs": [
    {
     "data": {
      "text/plain": [
       "0    1\n",
       "1    2\n",
       "2    3\n",
       "Name: 1, dtype: int64"
      ]
     },
     "execution_count": 5,
     "metadata": {},
     "output_type": "execute_result"
    }
   ],
   "source": [
    "df.loc[1]"
   ]
  },
  {
   "cell_type": "code",
   "execution_count": 7,
   "metadata": {},
   "outputs": [
    {
     "data": {
      "text/html": [
       "<div>\n",
       "<style scoped>\n",
       "    .dataframe tbody tr th:only-of-type {\n",
       "        vertical-align: middle;\n",
       "    }\n",
       "\n",
       "    .dataframe tbody tr th {\n",
       "        vertical-align: top;\n",
       "    }\n",
       "\n",
       "    .dataframe thead th {\n",
       "        text-align: right;\n",
       "    }\n",
       "</style>\n",
       "<table border=\"1\" class=\"dataframe\">\n",
       "  <thead>\n",
       "    <tr style=\"text-align: right;\">\n",
       "      <th></th>\n",
       "      <th>0</th>\n",
       "      <th>1</th>\n",
       "      <th>2</th>\n",
       "      <th>3</th>\n",
       "      <th>4</th>\n",
       "    </tr>\n",
       "  </thead>\n",
       "  <tbody>\n",
       "    <tr>\n",
       "      <th>age</th>\n",
       "      <td>20.0</td>\n",
       "      <td>15.0</td>\n",
       "      <td>30.0</td>\n",
       "      <td>25.0</td>\n",
       "      <td>35.0</td>\n",
       "    </tr>\n",
       "    <tr>\n",
       "      <th>weight</th>\n",
       "      <td>68.5</td>\n",
       "      <td>60.3</td>\n",
       "      <td>53.4</td>\n",
       "      <td>74.1</td>\n",
       "      <td>80.7</td>\n",
       "    </tr>\n",
       "    <tr>\n",
       "      <th>height</th>\n",
       "      <td>180.0</td>\n",
       "      <td>165.0</td>\n",
       "      <td>155.0</td>\n",
       "      <td>178.0</td>\n",
       "      <td>185.0</td>\n",
       "    </tr>\n",
       "  </tbody>\n",
       "</table>\n",
       "</div>"
      ],
      "text/plain": [
       "            0      1      2      3      4\n",
       "age      20.0   15.0   30.0   25.0   35.0\n",
       "weight   68.5   60.3   53.4   74.1   80.7\n",
       "height  180.0  165.0  155.0  178.0  185.0"
      ]
     },
     "execution_count": 7,
     "metadata": {},
     "output_type": "execute_result"
    }
   ],
   "source": [
    "a = pd.Series([20, 15, 30, 25, 35], name='age')\n",
    "b = pd.Series([68.5, 60.3, 53.4, 74.1, 80.7], name='weight')\n",
    "c = pd.Series([180, 165, 155, 178, 185], name ='height')\n",
    "\n",
    "human = pd.DataFrame([a,b,c])\n",
    "human"
   ]
  },
  {
   "cell_type": "code",
   "execution_count": 8,
   "metadata": {},
   "outputs": [
    {
     "name": "stdout",
     "output_type": "stream",
     "text": [
      "0    20.0\n",
      "1    15.0\n",
      "2    30.0\n",
      "3    25.0\n",
      "4    35.0\n",
      "Name: age, dtype: float64 \n",
      "\n",
      "0    20.0\n",
      "1    15.0\n",
      "2    30.0\n",
      "3    25.0\n",
      "4    35.0\n",
      "Name: age, dtype: float64 \n",
      "\n"
     ]
    }
   ],
   "source": [
    "print(human.loc['age'],'\\n')\n",
    "print(human.iloc[0, :],'\\n')"
   ]
  },
  {
   "cell_type": "code",
   "execution_count": 10,
   "metadata": {},
   "outputs": [
    {
     "name": "stdout",
     "output_type": "stream",
     "text": [
      "            0      1      2      3      4\n",
      "weight   68.5   60.3   53.4   74.1   80.7\n",
      "height  180.0  165.0  155.0  178.0  185.0 \n",
      "\n",
      "            0      1      2      3      4\n",
      "weight   68.5   60.3   53.4   74.1   80.7\n",
      "height  180.0  165.0  155.0  178.0  185.0 \n",
      "\n"
     ]
    }
   ],
   "source": [
    "print(human.loc[['weight', 'height']],'\\n')\n",
    "print(human.iloc[1:,:],'\\n')"
   ]
  },
  {
   "cell_type": "code",
   "execution_count": 28,
   "metadata": {},
   "outputs": [
    {
     "data": {
      "text/plain": [
       "128.8"
      ]
     },
     "execution_count": 28,
     "metadata": {},
     "output_type": "execute_result"
    }
   ],
   "source": [
    "import numpy as np\n",
    "\n",
    "x = np.array([[1, 572, 2, 219, 31, 6, 7, 8, 24, 10],\n",
    "                  [12, 222, 33, 1, 2, 3, 99, 24, 1, 42],\n",
    "                  [623, 2, 3, 56, 5, 2, 7, 85, 22, 110],\n",
    "                  [63, 24, 3, 4, 5, 64, 7, 82, 93, 210],\n",
    "                  [48, 28, 3, 24, 57, 63, 7, 8, 9, 102],\n",
    "                  [333, 64, 3, 44, 5, 6, 72, 82, 3, 10],\n",
    "                  [52, 242, 2, 41, 52, 6, 32, 8, 96, 2],\n",
    "                  [33, 223, 52, 4, 35, 62, 7, 8, 9, 10],\n",
    "                  [29, 2, 3, 149, 15, 6, 172, 2, 2, 11],\n",
    "                  [94, 23, 32, 24, 54, 63, 1, 3, 92, 7]])\n",
    "\n",
    "x[:,0].mean()"
   ]
  },
  {
   "cell_type": "code",
   "execution_count": 33,
   "metadata": {},
   "outputs": [],
   "source": [
    "    prime = [2, 3, 5, 7, 11,13]\n",
    "    \n",
    "    # 소수(prime number)를 기반으로 2차원 배열을 생성해보세요.\n"
   ]
  },
  {
   "cell_type": "code",
   "execution_count": 36,
   "metadata": {},
   "outputs": [
    {
     "data": {
      "text/plain": [
       "array([[ 2,  3,  5,  7, 11, 13],\n",
       "       [ 2,  3,  5,  7, 11, 13],\n",
       "       [ 2,  3,  5,  7, 11, 13],\n",
       "       [ 2,  3,  5,  7, 11, 13],\n",
       "       [ 2,  3,  5,  7, 11, 13]])"
      ]
     },
     "execution_count": 36,
     "metadata": {},
     "output_type": "execute_result"
    }
   ],
   "source": [
    "np.array([prime] * 5)"
   ]
  },
  {
   "cell_type": "code",
   "execution_count": null,
   "metadata": {},
   "outputs": [],
   "source": []
  }
 ],
 "metadata": {
  "kernelspec": {
   "display_name": "Python 3",
   "language": "python",
   "name": "python3"
  },
  "language_info": {
   "codemirror_mode": {
    "name": "ipython",
    "version": 3
   },
   "file_extension": ".py",
   "mimetype": "text/x-python",
   "name": "python",
   "nbconvert_exporter": "python",
   "pygments_lexer": "ipython3",
   "version": "3.6.8"
  }
 },
 "nbformat": 4,
 "nbformat_minor": 2
}
