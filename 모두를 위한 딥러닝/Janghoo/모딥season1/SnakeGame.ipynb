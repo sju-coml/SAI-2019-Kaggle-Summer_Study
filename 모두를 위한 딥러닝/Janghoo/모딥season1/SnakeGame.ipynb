{
 "cells": [
  {
   "cell_type": "code",
   "execution_count": 1,
   "metadata": {
    "scrolled": true
   },
   "outputs": [
    {
     "name": "stdout",
     "output_type": "stream",
     "text": [
      "pygame 1.9.6\n",
      "Hello from the pygame community. https://www.pygame.org/contribute.html\n"
     ]
    }
   ],
   "source": [
    "import math\n",
    "import random\n",
    "import pygame\n",
    "import tkinter as tk\n",
    "from tkinter import messagebox"
   ]
  },
  {
   "cell_type": "code",
   "execution_count": 2,
   "metadata": {},
   "outputs": [],
   "source": [
    "class cube(object):\n",
    "    rows = 20\n",
    "    w = 500\n",
    "    def __init__(self,start,dirnx=1,dirny=0,color=(255,0,0)):\n",
    "        self.pos = start\n",
    "        self.dirnx = 1\n",
    "        self.dirny = 0\n",
    "        self.color = color\n",
    " \n",
    "       \n",
    "    def move(self, dirnx, dirny):\n",
    "        self.dirnx = dirnx\n",
    "        self.dirny = dirny\n",
    "        self.pos = (self.pos[0] + self.dirnx, self.pos[1] + self.dirny)\n",
    " \n",
    "    def draw(self, surface, eyes=False):\n",
    "        dis = self.w // self.rows\n",
    "        i = self.pos[0]\n",
    "        j = self.pos[1]\n",
    " \n",
    "        pygame.draw.rect(surface, self.color, (i*dis+1,j*dis+1, dis-2, dis-2))\n",
    "        if eyes:\n",
    "            centre = dis//2\n",
    "            radius = 3\n",
    "            circleMiddle = (i*dis+centre-radius,j*dis+8)\n",
    "            circleMiddle2 = (i*dis + dis -radius*2, j*dis+8)\n",
    "            pygame.draw.circle(surface, (0,0,0), circleMiddle, radius)\n",
    "            pygame.draw.circle(surface, (0,0,0), circleMiddle2, radius)\n"
   ]
  },
  {
   "cell_type": "code",
   "execution_count": 3,
   "metadata": {},
   "outputs": [],
   "source": [
    "class snake(object):\n",
    "    body = []\n",
    "    turns = {}\n",
    "    def __init__(self, color, pos):\n",
    "        self.color = color\n",
    "        self.head = cube(pos)\n",
    "        self.body.append(self.head)\n",
    "        self.dirnx = 0\n",
    "        self.dirny = 1\n",
    " \n",
    "    def move(self):\n",
    "        for event in pygame.event.get():\n",
    "            if event.type == pygame.QUIT:\n",
    "                pygame.quit()\n",
    " \n",
    "            keys = pygame.key.get_pressed()\n",
    " \n",
    "            for key in keys:\n",
    "                if keys[pygame.K_LEFT]:\n",
    "                    self.dirnx = -1\n",
    "                    self.dirny = 0\n",
    "                    self.turns[self.head.pos[:]] = [self.dirnx, self.dirny]\n",
    " \n",
    "                elif keys[pygame.K_RIGHT]:\n",
    "                    self.dirnx = 1\n",
    "                    self.dirny = 0\n",
    "                    self.turns[self.head.pos[:]] = [self.dirnx, self.dirny]\n",
    " \n",
    "                elif keys[pygame.K_UP]:\n",
    "                    self.dirnx = 0\n",
    "                    self.dirny = -1\n",
    "                    self.turns[self.head.pos[:]] = [self.dirnx, self.dirny]\n",
    " \n",
    "                elif keys[pygame.K_DOWN]:\n",
    "                    self.dirnx = 0\n",
    "                    self.dirny = 1\n",
    "                    self.turns[self.head.pos[:]] = [self.dirnx, self.dirny]\n",
    " \n",
    "        for i, c in enumerate(self.body):\n",
    "            p = c.pos[:]\n",
    "            if p in self.turns:\n",
    "                turn = self.turns[p]\n",
    "                c.move(turn[0],turn[1])\n",
    "                if i == len(self.body)-1:\n",
    "                    self.turns.pop(p)\n",
    "            else:\n",
    "                if c.dirnx == -1 and c.pos[0] <= 0: c.pos = (c.rows-1, c.pos[1])\n",
    "                elif c.dirnx == 1 and c.pos[0] >= c.rows-1: c.pos = (0,c.pos[1])\n",
    "                elif c.dirny == 1 and c.pos[1] >= c.rows-1: c.pos = (c.pos[0], 0)\n",
    "                elif c.dirny == -1 and c.pos[1] <= 0: c.pos = (c.pos[0],c.rows-1)\n",
    "                else: c.move(c.dirnx,c.dirny)\n",
    "       \n",
    " \n",
    "    def reset(self, pos):\n",
    "        self.head = cube(pos)\n",
    "        self.body = []\n",
    "        self.body.append(self.head)\n",
    "        self.turns = {}\n",
    "        self.dirnx = 0\n",
    "        self.dirny = 1\n",
    " \n",
    " \n",
    "    def addCube(self):\n",
    "        tail = self.body[-1]\n",
    "        dx, dy = tail.dirnx, tail.dirny\n",
    " \n",
    "        if dx == 1 and dy == 0:\n",
    "            self.body.append(cube((tail.pos[0]-1,tail.pos[1])))\n",
    "        elif dx == -1 and dy == 0:\n",
    "            self.body.append(cube((tail.pos[0]+1,tail.pos[1])))\n",
    "        elif dx == 0 and dy == 1:\n",
    "            self.body.append(cube((tail.pos[0],tail.pos[1]-1)))\n",
    "        elif dx == 0 and dy == -1:\n",
    "            self.body.append(cube((tail.pos[0],tail.pos[1]+1)))\n",
    " \n",
    "        self.body[-1].dirnx = dx\n",
    "        self.body[-1].dirny = dy\n",
    "       \n",
    " \n",
    "    def draw(self, surface):\n",
    "        for i, c in enumerate(self.body):\n",
    "            if i ==0:\n",
    "                c.draw(surface, True)\n",
    "            else:\n",
    "                c.draw(surface)"
   ]
  },
  {
   "cell_type": "code",
   "execution_count": 4,
   "metadata": {},
   "outputs": [],
   "source": [
    "def drawGrid(w, rows, surface):\n",
    "    sizeBtwn = w // rows\n",
    " \n",
    "    x = 0\n",
    "    y = 0\n",
    "    for l in range(rows):\n",
    "        x = x + sizeBtwn\n",
    "        y = y + sizeBtwn\n",
    " \n",
    "        pygame.draw.line(surface, (255,255,255), (x,0),(x,w))\n",
    "        pygame.draw.line(surface, (255,255,255), (0,y),(w,y))"
   ]
  },
  {
   "cell_type": "code",
   "execution_count": 5,
   "metadata": {},
   "outputs": [],
   "source": [
    "def redrawWindow(surface):\n",
    "    global rows, width, s, snack\n",
    "    surface.fill((0,0,0))\n",
    "    s.draw(surface)\n",
    "    snack.draw(surface)\n",
    "    drawGrid(width,rows, surface)\n",
    "    pygame.display.update()"
   ]
  },
  {
   "cell_type": "code",
   "execution_count": 6,
   "metadata": {},
   "outputs": [],
   "source": [
    "def randomSnack(rows, item):\n",
    " \n",
    "    positions = item.body\n",
    " \n",
    "    while True:\n",
    "        x = random.randrange(rows)\n",
    "        y = random.randrange(rows)\n",
    "        if len(list(filter(lambda z:z.pos == (x,y), positions))) > 0:\n",
    "            continue\n",
    "        else:\n",
    "            break\n",
    "       \n",
    "    return (x,y)"
   ]
  },
  {
   "cell_type": "code",
   "execution_count": 7,
   "metadata": {},
   "outputs": [],
   "source": [
    "def message_box(subject, content):\n",
    "    root = tk.Tk()\n",
    "    root.attributes(\"-topmost\", True)\n",
    "    root.withdraw()\n",
    "    messagebox.showinfo(subject, content)\n",
    "    try:\n",
    "        root.destroy()\n",
    "    except:\n",
    "        pass"
   ]
  },
  {
   "cell_type": "code",
   "execution_count": 16,
   "metadata": {},
   "outputs": [],
   "source": [
    "def main():\n",
    "    global width, rows, s, snack\n",
    "    width = 500\n",
    "    rows = 20\n",
    "    win = pygame.display.set_mode((width, width))\n",
    "    s = snake((255,0,0), (10,10))\n",
    "    snack = cube(randomSnack(rows, s), color=(0,255,0))\n",
    "    flag = True\n",
    " \n",
    "    clock = pygame.time.Clock()\n",
    "   \n",
    "    while flag:\n",
    "        pygame.time.delay(50)\n",
    "        clock.tick(10)\n",
    "        s.move()\n",
    "        if s.body[0].pos == snack.pos:\n",
    "            s.addCube()\n",
    "            snack = cube(randomSnack(rows, s), color=(0,255,0))\n",
    " \n",
    "        for x in range(len(s.body)):\n",
    "            if s.body[x].pos in list(map(lambda z:z.pos,s.body[x+1:])):\n",
    "                print('Score: ', len(s.body))\n",
    "                message_box(' You Lost! ', 'Play again...')\n",
    "                s.reset((10,10))\n",
    "                break\n",
    " \n",
    "           \n",
    "        redrawWindow(win)\n",
    " \n",
    "       \n",
    "    pass"
   ]
  },
  {
   "cell_type": "code",
   "execution_count": 17,
   "metadata": {},
   "outputs": [
    {
     "name": "stdout",
     "output_type": "stream",
     "text": [
      "Score:  5\n",
      "Score:  3\n"
     ]
    },
    {
     "ename": "error",
     "evalue": "video system not initialized",
     "output_type": "error",
     "traceback": [
      "\u001b[1;31m---------------------------------------------------------------------------\u001b[0m",
      "\u001b[1;31merror\u001b[0m                                     Traceback (most recent call last)",
      "\u001b[1;32m<ipython-input-17-263240bbee7e>\u001b[0m in \u001b[0;36m<module>\u001b[1;34m\u001b[0m\n\u001b[1;32m----> 1\u001b[1;33m \u001b[0mmain\u001b[0m\u001b[1;33m(\u001b[0m\u001b[1;33m)\u001b[0m\u001b[1;33m\u001b[0m\u001b[1;33m\u001b[0m\u001b[0m\n\u001b[0m",
      "\u001b[1;32m<ipython-input-16-aac03b8b2706>\u001b[0m in \u001b[0;36mmain\u001b[1;34m()\u001b[0m\n\u001b[0;32m     13\u001b[0m         \u001b[0mpygame\u001b[0m\u001b[1;33m.\u001b[0m\u001b[0mtime\u001b[0m\u001b[1;33m.\u001b[0m\u001b[0mdelay\u001b[0m\u001b[1;33m(\u001b[0m\u001b[1;36m30\u001b[0m\u001b[1;33m)\u001b[0m\u001b[1;33m\u001b[0m\u001b[1;33m\u001b[0m\u001b[0m\n\u001b[0;32m     14\u001b[0m         \u001b[0mclock\u001b[0m\u001b[1;33m.\u001b[0m\u001b[0mtick\u001b[0m\u001b[1;33m(\u001b[0m\u001b[1;36m5\u001b[0m\u001b[1;33m)\u001b[0m\u001b[1;33m\u001b[0m\u001b[1;33m\u001b[0m\u001b[0m\n\u001b[1;32m---> 15\u001b[1;33m         \u001b[0ms\u001b[0m\u001b[1;33m.\u001b[0m\u001b[0mmove\u001b[0m\u001b[1;33m(\u001b[0m\u001b[1;33m)\u001b[0m\u001b[1;33m\u001b[0m\u001b[1;33m\u001b[0m\u001b[0m\n\u001b[0m\u001b[0;32m     16\u001b[0m         \u001b[1;32mif\u001b[0m \u001b[0ms\u001b[0m\u001b[1;33m.\u001b[0m\u001b[0mbody\u001b[0m\u001b[1;33m[\u001b[0m\u001b[1;36m0\u001b[0m\u001b[1;33m]\u001b[0m\u001b[1;33m.\u001b[0m\u001b[0mpos\u001b[0m \u001b[1;33m==\u001b[0m \u001b[0msnack\u001b[0m\u001b[1;33m.\u001b[0m\u001b[0mpos\u001b[0m\u001b[1;33m:\u001b[0m\u001b[1;33m\u001b[0m\u001b[1;33m\u001b[0m\u001b[0m\n\u001b[0;32m     17\u001b[0m             \u001b[0ms\u001b[0m\u001b[1;33m.\u001b[0m\u001b[0maddCube\u001b[0m\u001b[1;33m(\u001b[0m\u001b[1;33m)\u001b[0m\u001b[1;33m\u001b[0m\u001b[1;33m\u001b[0m\u001b[0m\n",
      "\u001b[1;32m<ipython-input-3-3dca3fbba8a2>\u001b[0m in \u001b[0;36mmove\u001b[1;34m(self)\u001b[0m\n\u001b[0;32m     14\u001b[0m                 \u001b[0mpygame\u001b[0m\u001b[1;33m.\u001b[0m\u001b[0mquit\u001b[0m\u001b[1;33m(\u001b[0m\u001b[1;33m)\u001b[0m\u001b[1;33m\u001b[0m\u001b[1;33m\u001b[0m\u001b[0m\n\u001b[0;32m     15\u001b[0m \u001b[1;33m\u001b[0m\u001b[0m\n\u001b[1;32m---> 16\u001b[1;33m             \u001b[0mkeys\u001b[0m \u001b[1;33m=\u001b[0m \u001b[0mpygame\u001b[0m\u001b[1;33m.\u001b[0m\u001b[0mkey\u001b[0m\u001b[1;33m.\u001b[0m\u001b[0mget_pressed\u001b[0m\u001b[1;33m(\u001b[0m\u001b[1;33m)\u001b[0m\u001b[1;33m\u001b[0m\u001b[1;33m\u001b[0m\u001b[0m\n\u001b[0m\u001b[0;32m     17\u001b[0m \u001b[1;33m\u001b[0m\u001b[0m\n\u001b[0;32m     18\u001b[0m             \u001b[1;32mfor\u001b[0m \u001b[0mkey\u001b[0m \u001b[1;32min\u001b[0m \u001b[0mkeys\u001b[0m\u001b[1;33m:\u001b[0m\u001b[1;33m\u001b[0m\u001b[1;33m\u001b[0m\u001b[0m\n",
      "\u001b[1;31merror\u001b[0m: video system not initialized"
     ]
    }
   ],
   "source": [
    "main()"
   ]
  },
  {
   "cell_type": "code",
   "execution_count": null,
   "metadata": {},
   "outputs": [],
   "source": []
  }
 ],
 "metadata": {
  "kernelspec": {
   "display_name": "Python 3",
   "language": "python",
   "name": "python3"
  },
  "language_info": {
   "codemirror_mode": {
    "name": "ipython",
    "version": 3
   },
   "file_extension": ".py",
   "mimetype": "text/x-python",
   "name": "python",
   "nbconvert_exporter": "python",
   "pygments_lexer": "ipython3",
   "version": "3.6.8"
  }
 },
 "nbformat": 4,
 "nbformat_minor": 2
}
